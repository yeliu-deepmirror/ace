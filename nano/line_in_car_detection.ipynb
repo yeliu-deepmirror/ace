{
 "cells": [
  {
   "cell_type": "markdown",
   "id": "7e997dec",
   "metadata": {},
   "source": [
    "# Detect Line Features in Car\n",
    "\n",
    "REFERENCES:\n",
    "* https://github.com/deepmirrorinc/Uranus/blob/master/uranus/models/detector/nanodet_plus.py\n",
    "    * https://github.com/deepmirrorinc/Uranus/blob/master/config/detector/nanodet_model_gray.yaml\n",
    "* https://github.com/RangiLyu/nanodet\n"
   ]
  },
  {
   "cell_type": "code",
   "execution_count": 1,
   "id": "a739d13d",
   "metadata": {},
   "outputs": [],
   "source": [
    "import torch\n",
    "import glob\n",
    "import yaml\n",
    "from PIL import Image \n",
    "import matplotlib.pyplot as plt\n",
    "\n",
    "import random\n",
    "from torchvision.datasets import ImageFolder\n",
    "from torch.utils.data import Dataset, DataLoader\n",
    "from torch.utils.data import SubsetRandomSampler\n",
    "import torchvision.transforms as transforms\n",
    "\n",
    "from nano_plus import NanoDetPlus\n",
    "from dataset.dataset import CarLinemarksDataset"
   ]
  },
  {
   "cell_type": "markdown",
   "id": "e7e2a558",
   "metadata": {},
   "source": [
    "## Create Labels \n",
    "\n",
    "using https://deepmirror.atlassian.net/wiki/spaces/GAC/pages/2163540058/In+Car+VLP automatic labeling"
   ]
  },
  {
   "cell_type": "code",
   "execution_count": 2,
   "id": "3e9b0e31",
   "metadata": {},
   "outputs": [],
   "source": [
    "data_set_folder = \"../data/20240222T101812+0800_oppoma_/dataset\""
   ]
  },
  {
   "cell_type": "code",
   "execution_count": 3,
   "id": "89da2b3f",
   "metadata": {},
   "outputs": [],
   "source": [
    "dataset = CarLinemarksDataset(data_set_folder)\n",
    "\n",
    "# splitting training and testing sets\n",
    "batch_size = 32\n",
    "indices = list(range(len(dataset)))\n",
    "random.shuffle(indices)\n",
    "split_point = int(0.85*len(indices))\n",
    "train_indices = indices[:split_point]\n",
    "test_indices = indices[split_point:]\n",
    "print(\"Size of the training set:\", len(train_indices))\n",
    "print(\"Size of the  testing set:\", len(test_indices))\n",
    "\n",
    "train_loader = DataLoader(dataset, batch_size=batch_size, sampler=SubsetRandomSampler(train_indices))\n",
    "test_loader = DataLoader(dataset, batch_size=batch_size, sampler=SubsetRandomSampler(test_indices))\n",
    "\n",
    "# randomly draw some images\n",
    "plt.figure(figsize=(10,20))\n",
    "plt.subplot(1, 3, 1)\n",
    "plt.imshow(dataset[indices[0]][0].permute(1, 2, 0))\n",
    "plt.subplot(1, 3, 2)\n",
    "plt.imshow(dataset[indices[1]][0].permute(1, 2, 0))\n",
    "plt.subplot(1, 3, 3)\n",
    "plt.imshow(dataset[indices[2]][0].permute(1, 2, 0))\n",
    "plt.show()"
   ]
  },
  {
   "cell_type": "code",
   "execution_count": 4,
   "id": "af2ea363",
   "metadata": {
    "scrolled": true
   },
   "outputs": [],
   "source": [
    "with open(\"config/gray_config.yaml\") as stream:\n",
    "    try:\n",
    "        nano_config = yaml.safe_load(stream)\n",
    "    except yaml.YAMLError as exc:\n",
    "        print(exc)\n",
    "\n",
    "det_model = NanoDetPlus(nano_config)"
   ]
  },
  {
   "cell_type": "code",
   "execution_count": 5,
   "id": "3b09e960",
   "metadata": {},
   "outputs": [],
   "source": [
    "dataset[indices[2]]"
   ]
  },
  {
   "cell_type": "code",
   "execution_count": 6,
   "id": "4f18819a",
   "metadata": {},
   "outputs": [],
   "source": [
    "for i, data in enumerate(train_loader, 0):\n",
    "    print(i)\n",
    "    print(data)\n",
    "    break\n",
    "    "
   ]
  },
  {
   "cell_type": "code",
   "execution_count": null,
   "id": "80270e37",
   "metadata": {},
   "outputs": [],
   "source": [
    "model_class = CarLocClassNet().to(\"cuda\")\n",
    "\n",
    "criterion = nn.CrossEntropyLoss()\n",
    "optimizer = optim.SGD(model_class.parameters(), lr=0.001, momentum=0.9)\n",
    "\n",
    "best_test = 1e6\n",
    "running_losses = []\n",
    "test_losses = []"
   ]
  },
  {
   "cell_type": "code",
   "execution_count": null,
   "id": "b7e77b96",
   "metadata": {},
   "outputs": [],
   "source": []
  },
  {
   "cell_type": "code",
   "execution_count": null,
   "id": "7d586235",
   "metadata": {},
   "outputs": [],
   "source": []
  },
  {
   "cell_type": "code",
   "execution_count": null,
   "id": "614c7382",
   "metadata": {
    "scrolled": false
   },
   "outputs": [],
   "source": [
    "# image_tensor = transform(test_image).unsqueeze(0)\n",
    "# print(image_tensor.shape)\n",
    "# head_out, decoded_bboxes = det_model.inference(image_tensor, 0)\n",
    "# cls_preds, reg_preds, decoded_bboxes, center_priors = head_out"
   ]
  }
 ],
 "metadata": {
  "kernelspec": {
   "display_name": "Python 3 (ipykernel)",
   "language": "python",
   "name": "python3"
  },
  "language_info": {
   "codemirror_mode": {
    "name": "ipython",
    "version": 3
   },
   "file_extension": ".py",
   "mimetype": "text/x-python",
   "name": "python",
   "nbconvert_exporter": "python",
   "pygments_lexer": "ipython3",
   "version": "3.11.3"
  }
 },
 "nbformat": 4,
 "nbformat_minor": 5
}
